{
  "nbformat": 4,
  "nbformat_minor": 0,
  "metadata": {
    "colab": {
      "provenance": [],
      "authorship_tag": "ABX9TyOKp6siHyqRUkOKqDa0qSMx",
      "include_colab_link": true
    },
    "kernelspec": {
      "name": "python3",
      "display_name": "Python 3"
    },
    "language_info": {
      "name": "python"
    }
  },
  "cells": [
    {
      "cell_type": "markdown",
      "metadata": {
        "id": "view-in-github",
        "colab_type": "text"
      },
      "source": [
        "<a href=\"https://colab.research.google.com/github/SriRamapriyan/intel-unnati/blob/main/intel_unnati_.ipynb\" target=\"_parent\"><img src=\"https://colab.research.google.com/assets/colab-badge.svg\" alt=\"Open In Colab\"/></a>"
      ]
    },
    {
      "cell_type": "markdown",
      "source": [
        "To start a machine learning code, you can follow these general steps:\n",
        "\n",
        "1. Define the Problem:\n",
        "Clearly understand the problem you want to solve with machine learning. Identify the input data, the desired output, and the type of machine learning task (e.g., classification, regression, clustering).\n",
        "\n",
        "2. Gather and Preprocess Data:\n",
        "Collect or acquire the data that you will use to train and test your machine learning model. Clean the data by handling missing values, outliers, and any other data quality issues. Perform data preprocessing tasks like normalization, scaling, or one-hot encoding to make the data suitable for the chosen machine learning algorithm.\n",
        "\n",
        "3. Split the Data:\n",
        "Divide your dataset into training, validation, and testing sets. The training set is used to train the model, the validation set helps in tuning hyperparameters and evaluating performance during development, and the testing set is used to assess the final performance of the trained model.\n",
        "\n",
        "4. Choose a Machine Learning Algorithm:\n",
        "Select a suitable machine learning algorithm based on the problem type and available data. For example, if you have a classification task and labeled data, you can choose algorithms like decision trees, support vector machines, or neural networks. If you have a regression task, linear regression or random forest regression might be appropriate.\n",
        "\n",
        "5. Implement the Algorithm:\n",
        "Implement the chosen machine learning algorithm using a programming language or framework of your choice. There are several popular options, such as Python with libraries like scikit-learn or TensorFlow, or R with libraries like caret or keras. Follow the documentation and guidelines specific to the chosen library to correctly implement the algorithm.\n",
        "\n",
        "6. Train the Model:\n",
        "Feed the training data into the algorithm and use it to train the model. Adjust the algorithm's parameters, if applicable, to optimize performance. This involves an iterative process of feeding the data, calculating predictions, and updating the model's internal parameters to minimize the chosen objective function (e.g., loss or error).\n",
        "\n",
        "7. Evaluate Model Performance:\n",
        "Assess the performance of your trained model using the validation set. Calculate relevant evaluation metrics based on the problem type, such as accuracy, precision, recall, F1 score, or mean squared error. These metrics will help you understand how well your model is performing and identify areas for improvement.\n",
        "\n",
        "8. Fine-tune and Optimize:\n",
        "If the model's performance is not satisfactory, consider fine-tuning the model by adjusting hyperparameters, modifying the architecture, or trying different techniques. This process may involve running multiple experiments, comparing results, and making adjustments accordingly.\n",
        "\n",
        "9. Test the Model:\n",
        "Once you are satisfied with the model's performance on the validation set, evaluate it on the testing set. This provides an unbiased estimate of how well your model will perform on unseen data. Calculate the final evaluation metrics and analyze the results.\n",
        "\n",
        "10. Deploy and Monitor:\n",
        "If the model performs well, you can deploy it to a production environment or use it for predictions on new data. Continuously monitor the model's performance over time, and retrain or update it as necessary to maintain optimal performance.\n",
        "\n",
        "Remember to document your code, experiment with different approaches, and leverage available resources, such as tutorials, documentation, and online communities, to enhance your understanding and improve your machine learning code."
      ],
      "metadata": {
        "id": "n1m_0FDOTotv"
      }
    },
    {
      "cell_type": "code",
      "execution_count": null,
      "metadata": {
        "id": "TmAVxQ5HSf0p"
      },
      "outputs": [],
      "source": [
        "import tensorflow as tf\n",
        "from tensorflow import keras\n",
        "from tensorflow.keras import layers"
      ]
    },
    {
      "cell_type": "code",
      "source": [
        "# Load the Fashion MNIST dataset\n",
        "(x_train, y_train), (x_test, y_test) = keras.datasets.fashion_mnist.load_data()\n"
      ],
      "metadata": {
        "colab": {
          "base_uri": "https://localhost:8080/"
        },
        "id": "sLh0MgvwUPr_",
        "outputId": "4fcc78f2-47fc-493e-fc07-66bc05f5dd40"
      },
      "execution_count": null,
      "outputs": [
        {
          "output_type": "stream",
          "name": "stdout",
          "text": [
            "Downloading data from https://storage.googleapis.com/tensorflow/tf-keras-datasets/train-labels-idx1-ubyte.gz\n",
            "29515/29515 [==============================] - 0s 0us/step\n",
            "Downloading data from https://storage.googleapis.com/tensorflow/tf-keras-datasets/train-images-idx3-ubyte.gz\n",
            "26421880/26421880 [==============================] - 0s 0us/step\n",
            "Downloading data from https://storage.googleapis.com/tensorflow/tf-keras-datasets/t10k-labels-idx1-ubyte.gz\n",
            "5148/5148 [==============================] - 0s 0us/step\n",
            "Downloading data from https://storage.googleapis.com/tensorflow/tf-keras-datasets/t10k-images-idx3-ubyte.gz\n",
            "4422102/4422102 [==============================] - 0s 0us/step\n"
          ]
        }
      ]
    },
    {
      "cell_type": "code",
      "source": [
        "# Preprocess the data\n",
        "x_train = x_train.reshape(-1, 28, 28, 1).astype(\"float32\") / 255.0\n",
        "x_test = x_test.reshape(-1, 28, 28, 1).astype(\"float32\") / 255.0\n",
        "num_classes = 10\n",
        "y_train = keras.utils.to_categorical(y_train, num_classes)\n",
        "y_test = keras.utils.to_categorical(y_test, num_classes)"
      ],
      "metadata": {
        "id": "haEw70wvUU2a"
      },
      "execution_count": null,
      "outputs": []
    },
    {
      "cell_type": "code",
      "source": [
        "# Build the CNN model\n",
        "model = keras.Sequential(\n",
        "    [\n",
        "        layers.Conv2D(32, kernel_size=(3, 3), activation=\"relu\", input_shape=(28, 28, 1)),\n",
        "        layers.MaxPooling2D(pool_size=(2, 2)),\n",
        "        layers.Flatten(),\n",
        "\n",
        "\n",
        "        layers.Dense(64, activation=\"relu\"),\n",
        "        layers.Dense(num_classes, activation=\"softmax\"),\n",
        "    ]\n",
        ")"
      ],
      "metadata": {
        "id": "N_pW7dqNUZ4h"
      },
      "execution_count": null,
      "outputs": []
    },
    {
      "cell_type": "code",
      "source": [
        "# Compile the model\n",
        "model.compile(loss=\"categorical_crossentropy\", optimizer=\"adam\", metrics=[\"accuracy\"])\n"
      ],
      "metadata": {
        "id": "7q58JspqUlYi"
      },
      "execution_count": null,
      "outputs": []
    },
    {
      "cell_type": "code",
      "source": [
        "# Train the model\n",
        "batch_size = 128\n",
        "epochs = 10\n",
        "model.fit(x_train, y_train, batch_size=batch_size, epochs=epochs, validation_split=0.1)"
      ],
      "metadata": {
        "colab": {
          "base_uri": "https://localhost:8080/"
        },
        "id": "Aav6fFW5UrqM",
        "outputId": "f1a0a623-4040-41f0-9247-3ae0ff68fa2a"
      },
      "execution_count": null,
      "outputs": [
        {
          "output_type": "stream",
          "name": "stdout",
          "text": [
            "Epoch 1/10\n",
            "422/422 [==============================] - 29s 65ms/step - loss: 0.4925 - accuracy: 0.8283 - val_loss: 0.3741 - val_accuracy: 0.8655\n",
            "Epoch 2/10\n",
            "422/422 [==============================] - 26s 62ms/step - loss: 0.3271 - accuracy: 0.8851 - val_loss: 0.3156 - val_accuracy: 0.8900\n",
            "Epoch 3/10\n",
            "422/422 [==============================] - 26s 61ms/step - loss: 0.2838 - accuracy: 0.8996 - val_loss: 0.2747 - val_accuracy: 0.9047\n",
            "Epoch 4/10\n",
            "422/422 [==============================] - 26s 61ms/step - loss: 0.2544 - accuracy: 0.9096 - val_loss: 0.2642 - val_accuracy: 0.9058\n",
            "Epoch 5/10\n",
            "422/422 [==============================] - 26s 62ms/step - loss: 0.2340 - accuracy: 0.9154 - val_loss: 0.2913 - val_accuracy: 0.8978\n",
            "Epoch 6/10\n",
            "422/422 [==============================] - 26s 61ms/step - loss: 0.2137 - accuracy: 0.9235 - val_loss: 0.2447 - val_accuracy: 0.9122\n",
            "Epoch 7/10\n",
            "422/422 [==============================] - 26s 62ms/step - loss: 0.1969 - accuracy: 0.9280 - val_loss: 0.2513 - val_accuracy: 0.9087\n",
            "Epoch 8/10\n",
            "422/422 [==============================] - 26s 61ms/step - loss: 0.1821 - accuracy: 0.9329 - val_loss: 0.2475 - val_accuracy: 0.9113\n",
            "Epoch 9/10\n",
            "422/422 [==============================] - 26s 61ms/step - loss: 0.1725 - accuracy: 0.9372 - val_loss: 0.2587 - val_accuracy: 0.9073\n",
            "Epoch 10/10\n",
            "422/422 [==============================] - 25s 60ms/step - loss: 0.1563 - accuracy: 0.9433 - val_loss: 0.2534 - val_accuracy: 0.9137\n"
          ]
        },
        {
          "output_type": "execute_result",
          "data": {
            "text/plain": [
              "<keras.callbacks.History at 0x7fd18965bb20>"
            ]
          },
          "metadata": {},
          "execution_count": 6
        }
      ]
    },
    {
      "cell_type": "code",
      "source": [
        "# Evaluate the model\n",
        "score = model.evaluate(x_test, y_test, verbose=0)\n",
        "print(\"Test loss:\", score[0])\n",
        "print(\"Test accuracy:\", score[1])\n"
      ],
      "metadata": {
        "id": "wZFhjeyiU-zS"
      },
      "execution_count": null,
      "outputs": []
    }
  ]
}